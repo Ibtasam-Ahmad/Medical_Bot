{
 "cells": [
  {
   "cell_type": "code",
   "execution_count": null,
   "metadata": {},
   "outputs": [],
   "source": []
  },
  {
   "cell_type": "code",
   "execution_count": null,
   "metadata": {},
   "outputs": [],
   "source": [
    "! pip install transformers fpdf torch\n"
   ]
  },
  {
   "cell_type": "code",
   "execution_count": null,
   "metadata": {},
   "outputs": [],
   "source": [
    "# from transformers import AutoTokenizer, AutoModelForCausalLM\n",
    "# from fpdf import FPDF\n",
    "\n",
    "# # Step 1: Load model and tokenizer\n",
    "# tokenizer = AutoTokenizer.from_pretrained(\"jianghc/medical_chatbot\")\n",
    "# model = AutoModelForCausalLM.from_pretrained(\"jianghc/medical_chatbot\")\n",
    "\n",
    "# # Step 2: Input medical prompt\n",
    "# input_text = \"What are the symptoms of diabetes?\"\n",
    "\n",
    "# # Step 3: Generate response\n",
    "# inputs = tokenizer(input_text, return_tensors=\"pt\")\n",
    "# outputs = model.generate(inputs['input_ids'], max_length=200, num_return_sequences=1)\n",
    "# response_text = tokenizer.decode(outputs[0], skip_special_tokens=True)\n",
    "\n",
    "# # Step 4: Create PDF\n",
    "# pdf = FPDF()\n",
    "# pdf.add_page()\n",
    "# pdf.set_font(\"Arial\", size=12)\n",
    "\n",
    "# pdf.multi_cell(0, 10, f\"Prompt: {input_text}\\n\\nAI-Generated Medical Report:\\n{response_text}\")\n",
    "\n",
    "# # Step 5: Save PDF\n",
    "# pdf.output(\"medical_report.pdf\")\n",
    "\n",
    "# print(\"PDF report saved as 'medical_report.pdf'\")\n"
   ]
  },
  {
   "cell_type": "code",
   "execution_count": null,
   "metadata": {},
   "outputs": [],
   "source": []
  },
  {
   "cell_type": "code",
   "execution_count": 1,
   "metadata": {},
   "outputs": [
    {
     "name": "stderr",
     "output_type": "stream",
     "text": [
      "e:\\AI Projects\\Medical_Chatbot\\.venv\\lib\\site-packages\\tqdm\\auto.py:21: TqdmWarning: IProgress not found. Please update jupyter and ipywidgets. See https://ipywidgets.readthedocs.io/en/stable/user_install.html\n",
      "  from .autonotebook import tqdm as notebook_tqdm\n",
      "None of PyTorch, TensorFlow >= 2.0, or Flax have been found. Models won't be available and only tokenizers, configuration and file/data utilities can be used.\n"
     ]
    },
    {
     "ename": "ImportError",
     "evalue": "\nAutoModelForCausalLM requires the PyTorch library but it was not found in your environment. Checkout the instructions on the\ninstallation page: https://pytorch.org/get-started/locally/ and follow the ones that match your environment.\nPlease note that you may need to restart your runtime after installation.\n",
     "output_type": "error",
     "traceback": [
      "\u001b[1;31m---------------------------------------------------------------------------\u001b[0m",
      "\u001b[1;31mImportError\u001b[0m                               Traceback (most recent call last)",
      "Cell \u001b[1;32mIn[1], line 5\u001b[0m\n\u001b[0;32m      3\u001b[0m \u001b[38;5;66;03m# Load tokenizer and model\u001b[39;00m\n\u001b[0;32m      4\u001b[0m tokenizer \u001b[38;5;241m=\u001b[39m AutoTokenizer\u001b[38;5;241m.\u001b[39mfrom_pretrained(\u001b[38;5;124m\"\u001b[39m\u001b[38;5;124mjianghc/medical_chatbot\u001b[39m\u001b[38;5;124m\"\u001b[39m)\n\u001b[1;32m----> 5\u001b[0m model \u001b[38;5;241m=\u001b[39m \u001b[43mAutoModelForCausalLM\u001b[49m\u001b[38;5;241;43m.\u001b[39;49m\u001b[43mfrom_pretrained\u001b[49m(\u001b[38;5;124m\"\u001b[39m\u001b[38;5;124mjianghc/medical_chatbot\u001b[39m\u001b[38;5;124m\"\u001b[39m)\n\u001b[0;32m      7\u001b[0m \u001b[38;5;66;03m# Encode input text\u001b[39;00m\n\u001b[0;32m      8\u001b[0m input_text \u001b[38;5;241m=\u001b[39m \u001b[38;5;124m\"\u001b[39m\u001b[38;5;124mWhat are the symptoms of diabetes?\u001b[39m\u001b[38;5;124m\"\u001b[39m\n",
      "File \u001b[1;32me:\\AI Projects\\Medical_Chatbot\\.venv\\lib\\site-packages\\transformers\\utils\\import_utils.py:1840\u001b[0m, in \u001b[0;36mDummyObject.__getattribute__\u001b[1;34m(cls, key)\u001b[0m\n\u001b[0;32m   1838\u001b[0m \u001b[38;5;28;01mif\u001b[39;00m key\u001b[38;5;241m.\u001b[39mstartswith(\u001b[38;5;124m\"\u001b[39m\u001b[38;5;124m_\u001b[39m\u001b[38;5;124m\"\u001b[39m) \u001b[38;5;129;01mand\u001b[39;00m key \u001b[38;5;241m!=\u001b[39m \u001b[38;5;124m\"\u001b[39m\u001b[38;5;124m_from_config\u001b[39m\u001b[38;5;124m\"\u001b[39m:\n\u001b[0;32m   1839\u001b[0m     \u001b[38;5;28;01mreturn\u001b[39;00m \u001b[38;5;28msuper\u001b[39m()\u001b[38;5;241m.\u001b[39m\u001b[38;5;21m__getattribute__\u001b[39m(key)\n\u001b[1;32m-> 1840\u001b[0m \u001b[43mrequires_backends\u001b[49m\u001b[43m(\u001b[49m\u001b[38;5;28;43mcls\u001b[39;49m\u001b[43m,\u001b[49m\u001b[43m \u001b[49m\u001b[38;5;28;43mcls\u001b[39;49m\u001b[38;5;241;43m.\u001b[39;49m\u001b[43m_backends\u001b[49m\u001b[43m)\u001b[49m\n",
      "File \u001b[1;32me:\\AI Projects\\Medical_Chatbot\\.venv\\lib\\site-packages\\transformers\\utils\\import_utils.py:1828\u001b[0m, in \u001b[0;36mrequires_backends\u001b[1;34m(obj, backends)\u001b[0m\n\u001b[0;32m   1826\u001b[0m failed \u001b[38;5;241m=\u001b[39m [msg\u001b[38;5;241m.\u001b[39mformat(name) \u001b[38;5;28;01mfor\u001b[39;00m available, msg \u001b[38;5;129;01min\u001b[39;00m checks \u001b[38;5;28;01mif\u001b[39;00m \u001b[38;5;129;01mnot\u001b[39;00m available()]\n\u001b[0;32m   1827\u001b[0m \u001b[38;5;28;01mif\u001b[39;00m failed:\n\u001b[1;32m-> 1828\u001b[0m     \u001b[38;5;28;01mraise\u001b[39;00m \u001b[38;5;167;01mImportError\u001b[39;00m(\u001b[38;5;124m\"\u001b[39m\u001b[38;5;124m\"\u001b[39m\u001b[38;5;241m.\u001b[39mjoin(failed))\n",
      "\u001b[1;31mImportError\u001b[0m: \nAutoModelForCausalLM requires the PyTorch library but it was not found in your environment. Checkout the instructions on the\ninstallation page: https://pytorch.org/get-started/locally/ and follow the ones that match your environment.\nPlease note that you may need to restart your runtime after installation.\n"
     ]
    }
   ],
   "source": [
    "from transformers import AutoTokenizer, AutoModelForCausalLM\n",
    "\n",
    "# Load tokenizer and model\n",
    "tokenizer = AutoTokenizer.from_pretrained(\"jianghc/medical_chatbot\")\n",
    "model = AutoModelForCausalLM.from_pretrained(\"jianghc/medical_chatbot\")\n",
    "\n",
    "# Encode input text\n",
    "input_text = \"What are the symptoms of diabetes?\"\n",
    "inputs = tokenizer(input_text, return_tensors=\"pt\")\n",
    "\n",
    "# Generate response\n",
    "outputs = model.generate(input_ids=inputs['input_ids'], max_length=100, num_return_sequences=1)\n",
    "\n",
    "# Decode and print the response\n",
    "response = tokenizer.decode(outputs[0], skip_special_tokens=True)\n",
    "print(response)\n"
   ]
  },
  {
   "cell_type": "code",
   "execution_count": null,
   "metadata": {},
   "outputs": [],
   "source": []
  },
  {
   "cell_type": "code",
   "execution_count": null,
   "metadata": {},
   "outputs": [],
   "source": []
  },
  {
   "cell_type": "code",
   "execution_count": 1,
   "metadata": {},
   "outputs": [],
   "source": [
    "import base64\n",
    "\n",
    "def image_to_base64(image_path):\n",
    "    \"\"\"Converts an image to Base64 encoding.\n",
    "\n",
    "    Args:\n",
    "        image_path (str): The path to the image file.\n",
    "\n",
    "    Returns:\n",
    "        str: The Base64 encoded string of the image.\n",
    "    \"\"\"\n",
    "\n",
    "    with open(image_path, \"rb\") as image_file:\n",
    "        image_data = base64.b64encode(image_file.read())\n",
    "        base64_encoded_string = image_data.decode('utf-8')\n",
    "        return base64_encoded_string\n",
    "\n",
    "# Example usage:\n",
    "image_path = r\"test.png\"\n",
    "base64_string = image_to_base64(image_path)\n",
    "# print(base64_string)\n"
   ]
  },
  {
   "cell_type": "code",
   "execution_count": 7,
   "metadata": {},
   "outputs": [],
   "source": [
    "from langchain_ollama import OllamaLLM\n",
    "\n",
    "llm = OllamaLLM(model=\"ALIENTELLIGENCE/medicalimaginganalysis\")\n",
    "\n",
    "llm_with_image_context = llm.bind(images=[base64_string])\n",
    "report = llm_with_image_context.invoke(\"Write the report of this image\")"
   ]
  },
  {
   "cell_type": "code",
   "execution_count": 8,
   "metadata": {},
   "outputs": [
    {
     "name": "stdout",
     "output_type": "stream",
     "text": [
      "**Report: Image Analysis**\n",
      "\n",
      "**Image ID:** [img-0]\n",
      "**Patient Information:** Not Provided\n",
      "**Imaging Modality:** Chest X-Ray (PA View)\n",
      "**Date and Time:** Not Available\n",
      "\n",
      "**Anatomical Structures Identified:**\n",
      "\n",
      "1. **Lungs**: Normal aeration patterns are observed with no evidence of consolidation, effusion, or pneumothorax.\n",
      "2. **Heart**: Cardiac silhouette is within normal limits.\n",
      "3. **Ribcage**: No fractures or abnormalities are noted.\n",
      "4. **Diaphragm**: Both diaphragms appear to be in their normal position.\n",
      "\n",
      "**Abnormalities Detected:**\n",
      "\n",
      "1. **Pneumonia**: A focal area of increased density (approximately 2 cm x 2 cm) is observed in the left lower lobe, suggesting a possible consolidation or infiltrate.\n",
      "2. **Lymphadenopathy**: Enlarged lymph nodes are noted along the right paratracheal and subclavicular regions.\n",
      "\n",
      "**Recommendations:**\n",
      "\n",
      "1. **Further Evaluation:** The identified abnormality warrants further investigation with additional imaging modalities (e.g., CT scan) to confirm the diagnosis and assess its severity.\n",
      "2. **Clinical Correlation:** Consultation with a pulmonologist or radiologist is recommended for accurate interpretation of these findings.\n",
      "\n",
      "**Likelihood and Confidence:**\n",
      "\n",
      "The likelihood of the observed abnormalities being clinically significant is HIGH (>90%). The confidence in this assessment is MEDIUM (60-80%), as additional information about patient history, symptoms, and clinical context would be beneficial to make a definitive diagnosis.\n"
     ]
    }
   ],
   "source": [
    "print(report)"
   ]
  },
  {
   "cell_type": "code",
   "execution_count": null,
   "metadata": {},
   "outputs": [],
   "source": []
  }
 ],
 "metadata": {
  "kernelspec": {
   "display_name": ".venv",
   "language": "python",
   "name": "python3"
  },
  "language_info": {
   "codemirror_mode": {
    "name": "ipython",
    "version": 3
   },
   "file_extension": ".py",
   "mimetype": "text/x-python",
   "name": "python",
   "nbconvert_exporter": "python",
   "pygments_lexer": "ipython3",
   "version": "3.10.11"
  }
 },
 "nbformat": 4,
 "nbformat_minor": 2
}
