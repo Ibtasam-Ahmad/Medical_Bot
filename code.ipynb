{
 "cells": [
  {
   "cell_type": "code",
   "execution_count": null,
   "metadata": {},
   "outputs": [],
   "source": []
  },
  {
   "cell_type": "code",
   "execution_count": 8,
   "metadata": {},
   "outputs": [
    {
     "name": "stdout",
     "output_type": "stream",
     "text": [
      "Collecting langchain_ollama\n",
      "  Using cached langchain_ollama-0.2.0-py3-none-any.whl (14 kB)\n",
      "Collecting ollama<1,>=0.3.0\n",
      "  Using cached ollama-0.3.3-py3-none-any.whl (10 kB)\n",
      "Collecting langchain-core<0.4.0,>=0.3.0\n",
      "  Downloading langchain_core-0.3.13-py3-none-any.whl (408 kB)\n",
      "     -------------------------------------- 408.0/408.0 kB 1.1 MB/s eta 0:00:00\n",
      "Collecting pydantic<3.0.0,>=2.5.2\n",
      "  Using cached pydantic-2.9.2-py3-none-any.whl (434 kB)\n",
      "Collecting langsmith<0.2.0,>=0.1.125\n",
      "  Using cached langsmith-0.1.137-py3-none-any.whl (296 kB)\n",
      "Requirement already satisfied: typing-extensions>=4.7 in c:\\users\\ib\\downloads\\medical_bot\\.venv\\lib\\site-packages (from langchain-core<0.4.0,>=0.3.0->langchain_ollama) (4.12.2)\n",
      "Collecting jsonpatch<2.0,>=1.33\n",
      "  Using cached jsonpatch-1.33-py2.py3-none-any.whl (12 kB)\n",
      "Collecting PyYAML>=5.3\n",
      "  Using cached PyYAML-6.0.2-cp310-cp310-win_amd64.whl (161 kB)\n",
      "Requirement already satisfied: packaging<25,>=23.2 in c:\\users\\ib\\downloads\\medical_bot\\.venv\\lib\\site-packages (from langchain-core<0.4.0,>=0.3.0->langchain_ollama) (24.1)\n",
      "Collecting tenacity!=8.4.0,<10.0.0,>=8.1.0\n",
      "  Using cached tenacity-9.0.0-py3-none-any.whl (28 kB)\n",
      "Collecting httpx<0.28.0,>=0.27.0\n",
      "  Using cached httpx-0.27.2-py3-none-any.whl (76 kB)\n",
      "Collecting idna\n",
      "  Using cached idna-3.10-py3-none-any.whl (70 kB)\n",
      "Collecting certifi\n",
      "  Using cached certifi-2024.8.30-py3-none-any.whl (167 kB)\n",
      "Collecting sniffio\n",
      "  Using cached sniffio-1.3.1-py3-none-any.whl (10 kB)\n",
      "Collecting anyio\n",
      "  Using cached anyio-4.6.2.post1-py3-none-any.whl (90 kB)\n",
      "Collecting httpcore==1.*\n",
      "  Using cached httpcore-1.0.6-py3-none-any.whl (78 kB)\n",
      "Collecting h11<0.15,>=0.13\n",
      "  Using cached h11-0.14.0-py3-none-any.whl (58 kB)\n",
      "Collecting jsonpointer>=1.9\n",
      "  Using cached jsonpointer-3.0.0-py2.py3-none-any.whl (7.6 kB)\n",
      "Collecting requests-toolbelt<2.0.0,>=1.0.0\n",
      "  Using cached requests_toolbelt-1.0.0-py2.py3-none-any.whl (54 kB)\n",
      "Collecting requests<3,>=2\n",
      "  Using cached requests-2.32.3-py3-none-any.whl (64 kB)\n",
      "Collecting orjson<4.0.0,>=3.9.14\n",
      "  Using cached orjson-3.10.10-cp310-none-win_amd64.whl (139 kB)\n",
      "Collecting annotated-types>=0.6.0\n",
      "  Using cached annotated_types-0.7.0-py3-none-any.whl (13 kB)\n",
      "Collecting pydantic-core==2.23.4\n",
      "  Using cached pydantic_core-2.23.4-cp310-none-win_amd64.whl (1.9 MB)\n",
      "Collecting charset-normalizer<4,>=2\n",
      "  Using cached charset_normalizer-3.4.0-cp310-cp310-win_amd64.whl (102 kB)\n",
      "Collecting urllib3<3,>=1.21.1\n",
      "  Using cached urllib3-2.2.3-py3-none-any.whl (126 kB)\n",
      "Requirement already satisfied: exceptiongroup>=1.0.2 in c:\\users\\ib\\downloads\\medical_bot\\.venv\\lib\\site-packages (from anyio->httpx<0.28.0,>=0.27.0->ollama<1,>=0.3.0->langchain_ollama) (1.2.2)\n",
      "Installing collected packages: urllib3, tenacity, sniffio, PyYAML, pydantic-core, orjson, jsonpointer, idna, h11, charset-normalizer, certifi, annotated-types, requests, pydantic, jsonpatch, httpcore, anyio, requests-toolbelt, httpx, ollama, langsmith, langchain-core, langchain_ollama\n",
      "Successfully installed PyYAML-6.0.2 annotated-types-0.7.0 anyio-4.6.2.post1 certifi-2024.8.30 charset-normalizer-3.4.0 h11-0.14.0 httpcore-1.0.6 httpx-0.27.2 idna-3.10 jsonpatch-1.33 jsonpointer-3.0.0 langchain-core-0.3.13 langchain_ollama-0.2.0 langsmith-0.1.137 ollama-0.3.3 orjson-3.10.10 pydantic-2.9.2 pydantic-core-2.23.4 requests-2.32.3 requests-toolbelt-1.0.0 sniffio-1.3.1 tenacity-9.0.0 urllib3-2.2.3\n",
      "Note: you may need to restart the kernel to use updated packages.\n"
     ]
    },
    {
     "name": "stderr",
     "output_type": "stream",
     "text": [
      "\n",
      "[notice] A new release of pip available: 22.2.1 -> 24.2\n",
      "[notice] To update, run: python.exe -m pip install --upgrade pip\n"
     ]
    }
   ],
   "source": [
    "pip install langchain_ollama"
   ]
  },
  {
   "cell_type": "code",
   "execution_count": null,
   "metadata": {},
   "outputs": [],
   "source": []
  },
  {
   "cell_type": "code",
   "execution_count": 10,
   "metadata": {},
   "outputs": [],
   "source": [
    "# import base64\n",
    "# from io import BytesIO\n",
    "\n",
    "# from IPython.display import HTML, display\n",
    "# from PIL import Image\n",
    "\n",
    "\n",
    "# def convert_to_base64(pil_image):\n",
    "#     \"\"\"\n",
    "#     Convert PIL images to Base64 encoded strings\n",
    "\n",
    "#     :param pil_image: PIL image\n",
    "#     :return: Re-sized Base64 string\n",
    "#     \"\"\"\n",
    "#     # Convert image to a format compatible with JPEG if needed\n",
    "#     if pil_image.mode == \"I;16\":\n",
    "#         pil_image = pil_image.convert(\"L\")  # Convert to 8-bit grayscale\n",
    "#     elif pil_image.mode != \"RGB\":\n",
    "#         pil_image = pil_image.convert(\"RGB\")  # Convert to RGB color\n",
    "\n",
    "#     buffered = BytesIO()\n",
    "#     pil_image.save(buffered, format=\"JPEG\")  # Save as JPEG\n",
    "#     img_str = base64.b64encode(buffered.getvalue()).decode(\"utf-8\")\n",
    "#     return img_str\n",
    "\n",
    "\n",
    "# def plt_img_base64(img_base64):\n",
    "#     \"\"\"\n",
    "#     Display base64 encoded string as image\n",
    "\n",
    "#     :param img_base64:  Base64 string\n",
    "#     \"\"\"\n",
    "#     # Create an HTML img tag with the base64 string as the source\n",
    "#     image_html = f'<img src=\"data:image/jpeg;base64,{img_base64}\" />'\n",
    "#     # Display the image by rendering the HTML\n",
    "#     display(HTML(image_html))\n",
    "\n",
    "\n",
    "# file_path = r\"C:\\Users\\IB\\Downloads\\medical_bot\\archive\\sample\\test.png\"\n",
    "# pil_image = Image.open(file_path)\n",
    "# image_b64 = convert_to_base64(pil_image)\n",
    "# plt_img_base64(image_b64)\n"
   ]
  },
  {
   "cell_type": "code",
   "execution_count": 12,
   "metadata": {},
   "outputs": [],
   "source": [
    "import base64\n",
    "\n",
    "def image_to_base64(image_path):\n",
    "    \"\"\"Converts an image to Base64 encoding.\n",
    "\n",
    "    Args:\n",
    "        image_path (str): The path to the image file.\n",
    "\n",
    "    Returns:\n",
    "        str: The Base64 encoded string of the image.\n",
    "    \"\"\"\n",
    "\n",
    "    with open(image_path, \"rb\") as image_file:\n",
    "        image_data = base64.b64encode(image_file.read())\n",
    "        base64_encoded_string = image_data.decode('utf-8')\n",
    "        return base64_encoded_string\n",
    "\n",
    "# Example usage:\n",
    "image_path = r\"C:\\Users\\IB\\Downloads\\medical_bot\\archive\\sample\\test.png\"\n",
    "base64_string = image_to_base64(image_path)\n",
    "# print(base64_string)"
   ]
  },
  {
   "cell_type": "code",
   "execution_count": 15,
   "metadata": {},
   "outputs": [
    {
     "data": {
      "text/plain": [
       "\"**Medical Image Analysis Report**\\n\\n**Image ID:** MIAR-001\\n**Patient ID:** P01234\\n**Imaging Modality:** MRI (Magnetic Resonance Imaging)\\n**Date:** 2023-02-15\\n**Location:** Hospital XYZ\\n\\n**Summary:**\\nThe following report summarizes the analysis of a Magnetic Resonance Imaging (MRI) scan taken on Patient P01234. The images were acquired using a 1.5 Tesla MRI machine and analyzed by our Advanced AI Medical Imaging Analysis Service.\\n\\n**Findings:**\\n\\n* **Anatomy:** The MRI scan reveals a normal anatomy of the brain, including the cerebral cortex, basal ganglia, thalamus, and cerebellum.\\n* **Lesions/Abnormalities:** A single lesion is identified in the left parietal lobe, measuring approximately 2.5 cm x 1.8 cm x 1.2 cm (see Figure 1).\\n* **Characteristics:**\\n\\t+ The lesion appears to be a solid, well-defined mass with minimal edema.\\n\\t+ No significant enhancement is observed after contrast administration.\\n\\t+ The lesion's signal characteristics are consistent with a tumor or cystic lesion.\\n* **Location:** The lesion is located in the left parietal lobe, near the intersection of the middle and posterior cerebral arteries.\\n\\n**Figure 1:**\\nAxial T2-weighted MRI image showing the lesion in the left parietal lobe.\\n\\n[Image description: A gray-scale axial T2-weighted MRI image of the brain, with an arrow pointing to a small lesion in the left parietal lobe.]\\n\\n**Analysis and Recommendations:**\\n\\nBased on the analysis, it is recommended that the patient undergoes further evaluation and testing, including:\\n\\n1. **Contrast-enhanced MRI:** A repeat MRI scan with contrast administration may help determine if the lesion is enhancing or has a characteristic pattern.\\n2. **Spectroscopy:** Spectroscopic analysis (e.g., MRSI) can provide additional information on the metabolic characteristics of the lesion.\\n3. **Computed Tomography (CT):** A CT scan may be performed to evaluate any potential calcifications or bony abnormalities.\\n\\n**Potential Diagnoses:**\\n\\nBased on the current findings, the following potential diagnoses are considered:\\n\\n1. Meningioma\\n2. Astrocytoma\\n3. Cystic lesion (e.g., arachnoid cyst)\\n\\n**Clinical Implications:**\\nThe presence of a solitary brain lesion may have implications for the patient's neurological and cognitive function. Further evaluation and testing are necessary to determine the nature and impact of this finding.\\n\\n**Future Developments:**\\n\\nOur Advanced AI Medical Imaging Analysis Service will continue to monitor and update this report as additional images or clinical data become available.\\n\\n**Recommendations for Follow-up:**\\n\\nWe recommend that the patient follow up with their primary care physician or a specialist (e.g., neurologist, oncologist) to discuss these findings and determine the best course of action.\\n\\nPlease note that this report is intended for informational purposes only and should not be used as the sole basis for clinical decision-making.\""
      ]
     },
     "execution_count": 15,
     "metadata": {},
     "output_type": "execute_result"
    }
   ],
   "source": [
    "from langchain_ollama import OllamaLLM\n",
    "\n",
    "llm = OllamaLLM(model=\"ALIENTELLIGENCE/medicalimaginganalysis\")\n",
    "\n",
    "llm_with_image_context = llm.bind(images=[base64_string])\n",
    "llm_with_image_context.invoke(\"Write the report of this image\")"
   ]
  },
  {
   "cell_type": "code",
   "execution_count": null,
   "metadata": {},
   "outputs": [],
   "source": []
  },
  {
   "cell_type": "code",
   "execution_count": null,
   "metadata": {},
   "outputs": [],
   "source": []
  },
  {
   "cell_type": "code",
   "execution_count": 1,
   "metadata": {},
   "outputs": [
    {
     "data": {
      "text/plain": [
       "\"**Image Report: Chest CT Scan**\\n\\n**Patient Information:**\\n\\n* Name: John Doe\\n* Age: 42\\n* Sex: Male\\n* Date of Birth: March 12, 1980\\n* Medical History: Hypertension, type 2 diabetes, and a history of smoking (1 pack/day for 10 years)\\n\\n**Image Details:**\\n\\n* Image Type: Unenhanced Chest CT Scan\\n* Modality: Computed Tomography (CT)\\n* Slice Thickness: 5mm\\n* Field of View: Entire chest cavity\\n\\n**Findings:**\\n\\nThe unenhanced chest CT scan reveals the following abnormalities:\\n\\n1. **Pulmonary Embolism**: A large, central clot is seen in the left pulmonary artery (PA) measuring approximately 2.5 cm x 3.0 cm (Figure 1). The embolus is suggestive of a fresh thromboembolic event.\\n2. **Left Pulmonary Artery Dilation**: The left PA is dilated with an internal diameter of approximately 3.5 cm, which is significantly larger than the normal caliber of the right PA (Figures 2-3).\\n3. **Hilar Lymphadenopathy**: Enlarged lymph nodes are seen in the hilum of both lungs, measuring up to 1.5 cm in diameter (Figure 4). The lymph nodes show peripheral rim enhancement on unenhanced images.\\n4. **Carcinoid Tumor**: A small, rounded mass is observed at the base of the left lung, measuring approximately 1.0 cm x 1.2 cm (Figure 5). The tumor appears to be well-circumscribed and shows minimal attenuation.\\n\\n**Interpretation:**\\n\\nThe unenhanced chest CT scan reveals evidence of a large pulmonary embolism in the left PA, which is likely responsible for the patient's symptoms. Additionally, the presence of dilated lymph nodes and a small carcinoid tumor at the lung base warrants further investigation and may indicate an underlying malignancy.\\n\\n**Recommendations:**\\n\\n1. **Further Imaging**: Order an enhanced CT scan with contrast to better evaluate the pulmonary embolism and surrounding structures.\\n2. **Cardiovascular Evaluation**: Perform an echocardiogram or cardiac MRI to assess for any potential cardiovascular effects of the pulmonary embolism.\\n3. **Pulmonary Nodule Biopsy**: Consider a biopsy of the small carcinoid tumor at the lung base, taking into account the patient's history and the likelihood of malignancy.\\n\\n**Implications:**\\n\\nThe presence of a large pulmonary embolism in this patient is concerning for potential cardiovascular complications. The finding of dilated lymph nodes may indicate an underlying infection or malignancy. Finally, the small carcinoid tumor at the lung base warrants further investigation to determine its potential significance.\\n\\n**Next Steps:**\\n\\nRecommendations will be provided once further imaging and testing are completed.\""
      ]
     },
     "execution_count": 1,
     "metadata": {},
     "output_type": "execute_result"
    }
   ],
   "source": [
    "import base64\n",
    "\n",
    "def image_to_base64(image_path):\n",
    "    \"\"\"Converts an image to Base64 encoding.\n",
    "\n",
    "    Args:\n",
    "        image_path (str): The path to the image file.\n",
    "\n",
    "    Returns:\n",
    "        str: The Base64 encoded string of the image.\n",
    "    \"\"\"\n",
    "\n",
    "    with open(image_path, \"rb\") as image_file:\n",
    "        image_data = base64.b64encode(image_file.read())\n",
    "        base64_encoded_string = image_data.decode('utf-8')\n",
    "        return base64_encoded_string\n",
    "\n",
    "# Example usage:\n",
    "image_path = r\"C:\\Users\\IB\\Downloads\\medical_bot\\archive\\sample\\test.png\"\n",
    "base64_string = image_to_base64(image_path)\n",
    "# print(base64_string)\n",
    "\n",
    "from langchain_ollama import OllamaLLM\n",
    "\n",
    "llm = OllamaLLM(model=\"llama3.2\")\n",
    "\n",
    "llm_with_image_context = llm.bind(images=[base64_string])\n",
    "text = llm_with_image_context.invoke(\"Write the report of this image\")\n",
    "\n",
    "text"
   ]
  },
  {
   "cell_type": "code",
   "execution_count": null,
   "metadata": {},
   "outputs": [],
   "source": []
  }
 ],
 "metadata": {
  "kernelspec": {
   "display_name": "venv",
   "language": "python",
   "name": "python3"
  },
  "language_info": {
   "codemirror_mode": {
    "name": "ipython",
    "version": 3
   },
   "file_extension": ".py",
   "mimetype": "text/x-python",
   "name": "python",
   "nbconvert_exporter": "python",
   "pygments_lexer": "ipython3",
   "version": "3.10.6"
  }
 },
 "nbformat": 4,
 "nbformat_minor": 2
}
